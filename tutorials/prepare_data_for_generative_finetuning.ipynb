{
 "cells": [
  {
   "cell_type": "markdown",
   "id": "825f1535-a6e1-48e2-89d0-7edde8c0c3db",
   "metadata": {},
   "source": [
    "<a href=\"https://colab.research.google.com/github/24p11/recode-with-mistral-finetune/blob/main/tutorials/prepare_data_for_generative_finetuning.ipynb\" target=\"_parent\"><img src=\"https://colab.research.google.com/assets/colab-badge.svg\" alt=\"Open In Colab\"/></a>\n",
    "\n",
    "# Predict code ICD with intruct generative model \n",
    "\n",
    "## Data preparation\n",
    "\n",
    "## Objective\n",
    "\n",
    "Build jsonl files for the learning of mistral-instruct 7B model.\n",
    "\n",
    "#### format instruct \n",
    "\n",
    "Given the system context and user question, the model try to predict the assistant response \n",
    "\n",
    "- system : Vous êtes un modèle de langage en française spécialisé dans le codage des diagnostics selon la classification internationale des maladies version 10 (CIM-10) pour les résumés standardisés de sortie du programme de médicalisation des systèmes d'information français (PMSI). A partir des comptes rendus d'hospitalisation vous donnerez les codes diagnostics CIM-10 que l'on peut retenir pour le séjours en distiguant diagnostic principal, diagnostic relié et diagnostics associés.\n",
    "- user : Générer le codage CIM-10 du résumé standardisé de sortie PMSI à partir du compte rendu d'hospitalisation suivant : début du compte rendu ... fin du compte rendu \n",
    "- assistant: Codes CIM 10 retenus pour le résumé standardisé de sortie PMSI :\n",
    "    - Diagnostic principal : Autres soins de contrôle chirurgicaux précisés (Z488)\n",
    "    - Diagnostic relié : Aucun.\n",
    "    - Diagnostics associés :\n",
    "      * Autres complications d'un acte à visée diagnostique et thérapeutique, non classées ailleurs (T818),\n",
    "      * Antécédents personnels d'intervention chirurgicale importante, non classée ailleurs (Z924),\n",
    "      * Acidose (E872)\n",
    "      \n",
    "      \n",
    "#### format text\n",
    "Next token prediction, the model try to predict next word given the previous context.\n",
    "\n",
    "- text : \n",
    "  * début du compte rendu ... fin du compte rendu \n",
    "  * Diagnostics CIM-10 du résumé standardisé de sortie PMSI : \n",
    "    - Diagnostic principal : Autres soins de contrôle chirurgicaux précisés (Z488)\n",
    "    - Diagnostic relié : Aucun.\n",
    "    - Diagnostics associés :\n",
    "      * Autres complications d'un acte à visée diagnostique et thérapeutique, non classées ailleurs (T818),\n",
    "      * Antécédents personnels d'intervention chirurgicale importante, non classée ailleurs (Z924),\n",
    "      * Acidose (E872)\n",
    "      \n",
    "      \n",
    "### Clinical notes\n",
    "For this experience notes have been prepared to match the CSV format  (variable names inherited from omop format)\n",
    "- ```visit_occurrence_id``` : encounter number\n",
    "- ```text``` : text of the clinical note (texte du compte rendu d'hospitalisation)\n",
    "\n",
    "Data have been initially prepared in 3 files :\n",
    "- train.csv\n",
    "- val.csv\n",
    "- test.csv\n",
    "\n",
    "### ICD 10 codes\n",
    "\n",
    "Data are in CSV format (variable names inherited from omop format)\n",
    "For ICD-10 diagnosis have been prepared in table  ```prep_raw_codes_sel``` :\n",
    "- ```visit_occurrence_id``` : encounter number\n",
    "- ```condition_status_source_value``` : position of diagnosis (DP,DR,DAS)\n",
    "- ```concept_id``` : ID  ICD-10 dictionary\n",
    "- ```concept_code``` : ICD-10 code\n",
    "- ```concept_name``` : ICD-10 wording\n",
    "\n",
    "\n",
    "For each visit (visit_occurrence_id) select :\n",
    "- 1 diag principal. For multi UMA visits (cf NB), choose the diag most frequent in general population\n",
    "- 1 related diagnosis (if present). For multi UMA choose the diag most frequent in general population \n",
    "- x associated diagnosis which will be ordered by ordre of frequency in the cohort when associated with this DP\n",
    "\n",
    "NB: EDS data do not keep the notion of \"RUM PRINCIPAL\". For multi UMA visits, the DP of the visit is the most frequent DP.\n",
    "\n",
    "1) Build frequencies reference tables\n",
    "- 1-1 General frequencies of DP and DR --> freq_DP, fred_DR\n",
    "- 1-1 Genaral frequencies of DAS --> freq_DAS\n",
    "- 1-2 Frequencies of the association DP-DAS --> freq_DP_DAS\n",
    "\n",
    "\n",
    "2) Choose only 1 DP and one DR for multi UMA base on frequencies \n",
    "- 2-1 Create table sel_DP\n",
    "  - table \n",
    "    * visit_occurence_id\n",
    "    * diag DP\n",
    "  - Merge DP with table frequencie DP\n",
    "  - choose the most frequent --> table sel_DP\n",
    "- 2-2 Create table sel_DP\n",
    "  - table \n",
    "    * visit_occurence_id\n",
    "    * diag DR\n",
    "  - Merge DP with table frequencie DP\n",
    "  - choose the most frequent --> table sel_DR,\n",
    "  \n",
    "3) Order DAS \n",
    "- 3-1 Select all diagnosis (DP,DR,DAS) : \n",
    "  * table DAS\n",
    "    - visit_occurence_id\n",
    "    - code\n",
    "- 3-2 Merge with tables sel_DP and sel_DR\n",
    "  * table DAS\n",
    "    - visit_occurence_id\n",
    "    - code\n",
    "    - DP\n",
    "    - DR\n",
    "- 3-3 Suppress diags that are already select in DP or DR\n",
    "- 3-4 Merge with freq_DP_DAS and freq_DAS\n",
    "- 3-5 Prepare variables diagnosis in the text format : \"Definition of the code (code)\"\n",
    "- 3-6 Order by visit_occurence_id, freq_DP_DAS, freq_DAS\n",
    "- 3-7 Concat DAS in a unique variables : \"Definition of the code 1  (code 1), Definition of the code 2  (code 2),...\" .\n",
    "  *  At the end, we have a dataframe with one line by visit with columns:\n",
    "     - visit_occurence_id\n",
    "     - dp : \"Definition of the code (code)\"\n",
    "     - dr : \"Definition of the code (code)\"\n",
    "     - das : \"Definition of the code 1  (code 1), Definition of the code 2  (code 2),...\"\n",
    "4) Prépare format for generative training\n",
    "\n",
    "Final format :\n",
    "\n",
    "text_diagnsotics =  \n",
    "```\n",
    "Diagnostic principal : Autres soins de contrôle chirurgicaux précisés (Z488)\n",
    "Diagnostic relié : Aucun.\n",
    "Diagnostics associés :\n",
    "Autres complications d'un acte à visée diagnostique et thérapeutique, non classées ailleurs (T818),\n",
    "Antécédents personnels d'intervention chirurgicale importante, non classée ailleurs (Z924),\n",
    "Acidose (E872),\n",
    "Antécédents personnels de chimiothérapie pour tumeur (Z926),\n",
    "Fibrillation et flutter auriculaires, sans précision (I489),\n",
    "Ablation d'un autre organe (partielle) (totale) à l'origine de réactions anormales du patient ou de complications ultérieures, sans mention d'accident au cours de l'intervention (Y836),\n",
    "Ascite (R18),\n",
    "Antécédents personnels d'irradiation (Z923),\n",
    "Autres maladies précisées du pancréas (K868),\n",
    "Autres atteintes non infectieuses précisées des vaisseaux et des ganglions lymphatiques (I898),\n",
    "Pancréatites chroniques, autres et non précisées (K861+8),\n",
    "Tumeur maligne d'autres parties du pancréas (C257).\n",
    "```\n",
    "\n",
    "5) Merge with from medical notes and write json final file format\n",
    "\n",
    "For each file of clinical notes (train, test, val) merge with text diagnosis."
   ]
  },
  {
   "cell_type": "code",
   "execution_count": 2,
   "id": "89b7ba48-8042-49a5-814f-c22137b53026",
   "metadata": {
    "tags": []
   },
   "outputs": [],
   "source": [
    "# librairies\n",
    "import pandas as pd\n",
    "import numpy as np\n",
    "import re"
   ]
  },
  {
   "cell_type": "markdown",
   "id": "d931c95d",
   "metadata": {},
   "source": [
    "#### Import ICD-1O dictionnary\n",
    "- dataframe : \n",
    "   * code\n",
    "   * libelle"
   ]
  },
  {
   "cell_type": "code",
   "execution_count": 3,
   "id": "0d425cab-ff2f-4445-8e57-505cb90b8fc4",
   "metadata": {
    "tags": []
   },
   "outputs": [],
   "source": [
    "PATH_ICD = \"../referentials/\"\n",
    "df_icd = pd.read_csv(PATH_ICD +\"cim_10_atih_2019.tsv\", sep=\"\\t\",header=None,names=[\"code\",\"aut_mco\",\"pos\",\"aut_ssr\",\"lib_court\",\"libelle\"])\n",
    "df_icd.code = df_icd.code.apply(lambda x: x.replace(\" \",\"\"))"
   ]
  },
  {
   "cell_type": "code",
   "execution_count": 11,
   "id": "18583aab-406d-4591-83c5-6a515af4159e",
   "metadata": {
    "tags": []
   },
   "outputs": [],
   "source": [
    "PATH_DATA = \"../sample_data/\"\n",
    "df_icd_codes = pd.read_csv(PATH_DATA +\"codes.csv\")\n",
    "df_icd_codes.drop(columns = \"concept_name\",inplace=True)"
   ]
  },
  {
   "cell_type": "markdown",
   "id": "541b6219",
   "metadata": {},
   "source": [
    "### 1) Build frequencies reference tables\n",
    "\n",
    "#### 1-1 dataframes freq_DP,freq_DR,freq_DAS\n",
    "One dataframe with frequencies of the couple (position - code) : [freq_DP,freq_DR,freq_DAS]"
   ]
  },
  {
   "cell_type": "code",
   "execution_count": 12,
   "id": "20d6a493-2736-4bfc-8aeb-c292ede0b57e",
   "metadata": {
    "tags": []
   },
   "outputs": [],
   "source": [
    "df_freq_types_codes = df_icd_codes.groupby([\"condition_status_source_value\",\"concept_code\"]).size().to_frame('freq_position').reset_index()"
   ]
  },
  {
   "cell_type": "code",
   "execution_count": 13,
   "id": "c80cd153-3335-47e7-b046-84b832ad7cc2",
   "metadata": {
    "tags": []
   },
   "outputs": [
    {
     "data": {
      "text/html": [
       "<div>\n",
       "<style scoped>\n",
       "    .dataframe tbody tr th:only-of-type {\n",
       "        vertical-align: middle;\n",
       "    }\n",
       "\n",
       "    .dataframe tbody tr th {\n",
       "        vertical-align: top;\n",
       "    }\n",
       "\n",
       "    .dataframe thead th {\n",
       "        text-align: right;\n",
       "    }\n",
       "</style>\n",
       "<table border=\"1\" class=\"dataframe\">\n",
       "  <thead>\n",
       "    <tr style=\"text-align: right;\">\n",
       "      <th></th>\n",
       "      <th>condition_status_source_value</th>\n",
       "      <th>concept_code</th>\n",
       "      <th>freq_position</th>\n",
       "    </tr>\n",
       "  </thead>\n",
       "  <tbody>\n",
       "  </tbody>\n",
       "</table>\n",
       "</div>"
      ],
      "text/plain": [
       "Empty DataFrame\n",
       "Columns: [condition_status_source_value, concept_code, freq_position]\n",
       "Index: []"
      ]
     },
     "execution_count": 13,
     "metadata": {},
     "output_type": "execute_result"
    }
   ],
   "source": [
    "#Control if all codes are in the referential\n",
    "df_freq_types_codes[~df_freq_types_codes.concept_code.isin(df_icd.code)]"
   ]
  },
  {
   "cell_type": "code",
   "execution_count": 14,
   "id": "6da2e986-f94f-4423-956c-162ecf6f585a",
   "metadata": {
    "tags": []
   },
   "outputs": [
    {
     "name": "stdout",
     "output_type": "stream",
     "text": [
      "Nombres de codes à prédire : 139\n"
     ]
    }
   ],
   "source": [
    "nb_codes = len(df_freq_types_codes.concept_code.unique())\n",
    "print(\"Nombres de codes à prédire : \" + str(nb_codes))"
   ]
  },
  {
   "cell_type": "markdown",
   "id": "0698e0ea",
   "metadata": {},
   "source": [
    "### 2) Choose only 1 DP and one DR for multi UMA base on frequencies\n",
    "\n",
    "#### 2-1 Create table sel_DP"
   ]
  },
  {
   "cell_type": "code",
   "execution_count": 23,
   "id": "b1caba62-45ca-43f9-a5a0-111477129212",
   "metadata": {
    "tags": []
   },
   "outputs": [],
   "source": [
    "df_sel_dp = df_icd_codes[df_icd_codes.condition_status_source_value =='DP']\n"
   ]
  },
  {
   "cell_type": "code",
   "execution_count": 24,
   "id": "79e9d9e2-ded5-4051-8fc4-7dcbf38b9b9e",
   "metadata": {
    "tags": []
   },
   "outputs": [],
   "source": [
    "df_sel_dp = df_sel_dp.merge(df_freq_types_codes[df_freq_types_codes.condition_status_source_value=='DP'])\n",
    "df_sel_dp = df_sel_dp.merge(df_freq_types_codes[df_freq_types_codes.condition_status_source_value=='DP'])\n",
    "df_sel_dp.sort_values([\"visit_occurence_id\",\"freq_position\"], ascending=[True,False],inplace=True)\n",
    "df_sel_dp.rename(columns={'concept_code':'dp'},inplace=True)"
   ]
  },
  {
   "cell_type": "code",
   "execution_count": 25,
   "id": "9f76462f-dab8-4e8e-8e6e-806ab967124f",
   "metadata": {
    "tags": []
   },
   "outputs": [
    {
     "data": {
      "text/plain": [
       "(200, 4)"
      ]
     },
     "execution_count": 25,
     "metadata": {},
     "output_type": "execute_result"
    }
   ],
   "source": [
    "df_sel_dp.shape"
   ]
  },
  {
   "cell_type": "markdown",
   "id": "f8e00508",
   "metadata": {},
   "source": [
    "#### 2-2 Create table sel_DR"
   ]
  },
  {
   "cell_type": "code",
   "execution_count": 26,
   "id": "b84d35db-86f5-4440-929f-84806386e212",
   "metadata": {
    "tags": []
   },
   "outputs": [],
   "source": [
    "df_sel_dr = df_icd_codes[df_icd_codes.condition_status_source_value =='DR']"
   ]
  },
  {
   "cell_type": "code",
   "execution_count": 28,
   "id": "06bbb47d-9257-48a6-9612-8e590a3fb1cd",
   "metadata": {
    "tags": []
   },
   "outputs": [],
   "source": [
    "df_sel_dr = df_sel_dr.merge(df_freq_types_codes[df_freq_types_codes.condition_status_source_value=='DR'])\n",
    "df_sel_dr.sort_values([\"visit_occurence_id\",\"freq_position\"], ascending=[True,False],inplace=True)\n",
    "df_sel_dr = df_sel_dr.groupby([\"visit_occurence_id\"]).first().reset_index()\n",
    "df_sel_dr.rename(columns={'concept_code':'dr'},inplace=True)"
   ]
  },
  {
   "cell_type": "code",
   "execution_count": 29,
   "id": "c5101075-d7bc-4125-8699-29581521195f",
   "metadata": {
    "tags": []
   },
   "outputs": [],
   "source": [
    "df_sel_dr = df_sel_dr.merge(df_icd[[\"code\",\"libelle\"]].rename(columns={'code':'dr','libelle':'libelle_dr'}))"
   ]
  },
  {
   "cell_type": "markdown",
   "id": "0cfd69d1",
   "metadata": {},
   "source": [
    "### 3) Order DAS \n",
    "#### 3-1 Select all diagnosis (DP,DR,DAS) "
   ]
  },
  {
   "cell_type": "code",
   "execution_count": 30,
   "id": "ec997ba1-3f87-406b-a0ef-eb7d11a81faf",
   "metadata": {
    "tags": []
   },
   "outputs": [],
   "source": [
    "df_sel_das = df_icd_codes[df_icd_codes.condition_status_source_value.isin(['DP','DAS'])]"
   ]
  },
  {
   "cell_type": "code",
   "execution_count": 34,
   "id": "a5c2d25e-11f4-45a1-ad82-bb75afca72cf",
   "metadata": {
    "tags": []
   },
   "outputs": [],
   "source": [
    "df_visit_id_das = df_icd_codes.visit_occurence_id[df_icd_codes.condition_status_source_value==\"DAS\"]"
   ]
  },
  {
   "cell_type": "code",
   "execution_count": 35,
   "id": "cf438e79-f69c-43c8-9ab3-710b09fe8234",
   "metadata": {
    "tags": []
   },
   "outputs": [
    {
     "data": {
      "text/plain": [
       "200"
      ]
     },
     "execution_count": 35,
     "metadata": {},
     "output_type": "execute_result"
    }
   ],
   "source": [
    "#Just to check\n",
    "df_sel_das.visit_occurence_id.nunique()"
   ]
  },
  {
   "cell_type": "code",
   "execution_count": 36,
   "id": "f31d9716-343c-4902-83b2-81bfaa878f8e",
   "metadata": {
    "tags": []
   },
   "outputs": [
    {
     "name": "stderr",
     "output_type": "stream",
     "text": [
      "C:\\Users\\3056269\\AppData\\Roaming\\Python\\Python310\\site-packages\\pandas\\core\\frame.py:5039: SettingWithCopyWarning: \n",
      "A value is trying to be set on a copy of a slice from a DataFrame\n",
      "\n",
      "See the caveats in the documentation: https://pandas.pydata.org/pandas-docs/stable/user_guide/indexing.html#returning-a-view-versus-a-copy\n",
      "  return super().rename(\n"
     ]
    }
   ],
   "source": [
    "df_sel_das.rename(columns={'concept_code':'das'},inplace=True)"
   ]
  },
  {
   "cell_type": "markdown",
   "id": "50ccb348",
   "metadata": {},
   "source": [
    "####  3-2 Merge with tables sel_DP and sel_DR"
   ]
  },
  {
   "cell_type": "code",
   "execution_count": 37,
   "id": "574f0c1d-772d-4c15-8890-b1a65feab9fd",
   "metadata": {
    "tags": []
   },
   "outputs": [
    {
     "data": {
      "text/plain": [
       "Index(['visit_occurence_id', 'condition_status_source_value', 'das'], dtype='object')"
      ]
     },
     "execution_count": 37,
     "metadata": {},
     "output_type": "execute_result"
    }
   ],
   "source": [
    "df_sel_das.columns"
   ]
  },
  {
   "cell_type": "code",
   "execution_count": 38,
   "id": "39fcf3c3-9965-44b7-b5dd-45f4b723a3a1",
   "metadata": {
    "tags": []
   },
   "outputs": [
    {
     "data": {
      "text/plain": [
       "Index(['visit_occurence_id', 'condition_status_source_value', 'dp',\n",
       "       'freq_position'],\n",
       "      dtype='object')"
      ]
     },
     "execution_count": 38,
     "metadata": {},
     "output_type": "execute_result"
    }
   ],
   "source": [
    "df_sel_dp.columns"
   ]
  },
  {
   "cell_type": "code",
   "execution_count": 41,
   "id": "91e2e9f9-4164-44db-8c3d-2c7214a2e2fb",
   "metadata": {
    "tags": []
   },
   "outputs": [],
   "source": [
    "df_dp_das = df_sel_das.merge(df_sel_dp.drop(columns={\"condition_status_source_value\", \"freq_position\"}))"
   ]
  },
  {
   "cell_type": "code",
   "execution_count": 43,
   "id": "ce4b2398-5ec5-4433-8720-3184051888b8",
   "metadata": {
    "tags": []
   },
   "outputs": [
    {
     "data": {
      "text/plain": [
       "200"
      ]
     },
     "execution_count": 43,
     "metadata": {},
     "output_type": "execute_result"
    }
   ],
   "source": [
    "df_dp_das.visit_occurence_id.nunique()"
   ]
  },
  {
   "cell_type": "code",
   "execution_count": 44,
   "id": "bc492771-ca0b-4d8e-b269-4c1d383a030d",
   "metadata": {
    "tags": []
   },
   "outputs": [],
   "source": [
    "#As we took also DP IN df_das, column DAS will be filled with DP value even if the visit as no DAS\n",
    "#Force DAS to empty for visit without DAS\n",
    "df_dp_das.das[~(df_dp_das.visit_occurence_id.isin(df_visit_id_das))]=\"\""
   ]
  },
  {
   "cell_type": "markdown",
   "id": "db88def2",
   "metadata": {},
   "source": [
    "#### 3-3 Suppress diags that are already select in DP or DR"
   ]
  },
  {
   "cell_type": "code",
   "execution_count": 45,
   "id": "a20d709d-f19f-4f5d-baa6-71e3d32f04c0",
   "metadata": {
    "tags": []
   },
   "outputs": [],
   "source": [
    "#Suppress lines where DP = DAS \n",
    "df_dp_das = df_dp_das[  ~ (df_dp_das.dp==df_dp_das.das) ]\n"
   ]
  },
  {
   "cell_type": "code",
   "execution_count": 47,
   "id": "f8e31e58-47b6-4001-a109-1a36a36f0cfb",
   "metadata": {
    "tags": []
   },
   "outputs": [],
   "source": [
    "#Drop duplicates du to mutli UMA visit\n",
    "df_dp_das = df_dp_das.drop_duplicates([\"visit_occurence_id\",\"dp\",\"das\"])"
   ]
  },
  {
   "cell_type": "code",
   "execution_count": 49,
   "id": "3bdf49ed-29f7-47d6-a347-442211404d9b",
   "metadata": {
    "tags": []
   },
   "outputs": [
    {
     "data": {
      "text/plain": [
       "200"
      ]
     },
     "execution_count": 49,
     "metadata": {},
     "output_type": "execute_result"
    }
   ],
   "source": [
    "df_dp_das.visit_occurence_id.nunique()"
   ]
  },
  {
   "cell_type": "markdown",
   "id": "3f403bb5",
   "metadata": {},
   "source": [
    "#### 3-4 Merge with freq_DP_DAS and freq_DAS"
   ]
  },
  {
   "cell_type": "code",
   "execution_count": 50,
   "id": "e02de90c-5224-4f48-b9ca-42e424dee298",
   "metadata": {
    "tags": []
   },
   "outputs": [],
   "source": [
    "#Add frequency of couple [DP,DAS]\n",
    "freq_dp_das = df_dp_das.groupby([\"dp\",\"das\"]).size().to_frame('freq_dp_das').reset_index()"
   ]
  },
  {
   "cell_type": "code",
   "execution_count": 51,
   "id": "efa4d978-a18b-4973-a0a2-b1307451d610",
   "metadata": {
    "tags": []
   },
   "outputs": [],
   "source": [
    "df_dp_das = df_dp_das.merge(freq_dp_das,how=\"left\")"
   ]
  },
  {
   "cell_type": "code",
   "execution_count": 53,
   "id": "febfbe3b-1e60-4764-a746-9cbe1edd4f82",
   "metadata": {
    "tags": []
   },
   "outputs": [
    {
     "data": {
      "text/html": [
       "<div>\n",
       "<style scoped>\n",
       "    .dataframe tbody tr th:only-of-type {\n",
       "        vertical-align: middle;\n",
       "    }\n",
       "\n",
       "    .dataframe tbody tr th {\n",
       "        vertical-align: top;\n",
       "    }\n",
       "\n",
       "    .dataframe thead th {\n",
       "        text-align: right;\n",
       "    }\n",
       "</style>\n",
       "<table border=\"1\" class=\"dataframe\">\n",
       "  <thead>\n",
       "    <tr style=\"text-align: right;\">\n",
       "      <th></th>\n",
       "      <th>visit_occurence_id</th>\n",
       "      <th>condition_status_source_value</th>\n",
       "      <th>das</th>\n",
       "      <th>dp</th>\n",
       "      <th>freq_dp_das</th>\n",
       "    </tr>\n",
       "  </thead>\n",
       "  <tbody>\n",
       "    <tr>\n",
       "      <th>671</th>\n",
       "      <td>cd372bd9dfd0e15f1281bfb1496ff3dd3346e4dd</td>\n",
       "      <td>DAS</td>\n",
       "      <td>E1190</td>\n",
       "      <td>Z5101</td>\n",
       "      <td>3</td>\n",
       "    </tr>\n",
       "    <tr>\n",
       "      <th>672</th>\n",
       "      <td>cd372bd9dfd0e15f1281bfb1496ff3dd3346e4dd</td>\n",
       "      <td>DAS</td>\n",
       "      <td>E1198</td>\n",
       "      <td>Z5101</td>\n",
       "      <td>6</td>\n",
       "    </tr>\n",
       "    <tr>\n",
       "      <th>673</th>\n",
       "      <td>cd372bd9dfd0e15f1281bfb1496ff3dd3346e4dd</td>\n",
       "      <td>DAS</td>\n",
       "      <td>E8718</td>\n",
       "      <td>Z5101</td>\n",
       "      <td>7</td>\n",
       "    </tr>\n",
       "    <tr>\n",
       "      <th>674</th>\n",
       "      <td>cd372bd9dfd0e15f1281bfb1496ff3dd3346e4dd</td>\n",
       "      <td>DAS</td>\n",
       "      <td>I482</td>\n",
       "      <td>Z5101</td>\n",
       "      <td>7</td>\n",
       "    </tr>\n",
       "    <tr>\n",
       "      <th>675</th>\n",
       "      <td>cd372bd9dfd0e15f1281bfb1496ff3dd3346e4dd</td>\n",
       "      <td>DAS</td>\n",
       "      <td>N185</td>\n",
       "      <td>Z5101</td>\n",
       "      <td>8</td>\n",
       "    </tr>\n",
       "    <tr>\n",
       "      <th>676</th>\n",
       "      <td>cd372bd9dfd0e15f1281bfb1496ff3dd3346e4dd</td>\n",
       "      <td>DAS</td>\n",
       "      <td>E43</td>\n",
       "      <td>Z5101</td>\n",
       "      <td>8</td>\n",
       "    </tr>\n",
       "    <tr>\n",
       "      <th>677</th>\n",
       "      <td>cd372bd9dfd0e15f1281bfb1496ff3dd3346e4dd</td>\n",
       "      <td>DAS</td>\n",
       "      <td>R410</td>\n",
       "      <td>Z5101</td>\n",
       "      <td>7</td>\n",
       "    </tr>\n",
       "  </tbody>\n",
       "</table>\n",
       "</div>"
      ],
      "text/plain": [
       "                           visit_occurence_id condition_status_source_value  \\\n",
       "671  cd372bd9dfd0e15f1281bfb1496ff3dd3346e4dd                           DAS   \n",
       "672  cd372bd9dfd0e15f1281bfb1496ff3dd3346e4dd                           DAS   \n",
       "673  cd372bd9dfd0e15f1281bfb1496ff3dd3346e4dd                           DAS   \n",
       "674  cd372bd9dfd0e15f1281bfb1496ff3dd3346e4dd                           DAS   \n",
       "675  cd372bd9dfd0e15f1281bfb1496ff3dd3346e4dd                           DAS   \n",
       "676  cd372bd9dfd0e15f1281bfb1496ff3dd3346e4dd                           DAS   \n",
       "677  cd372bd9dfd0e15f1281bfb1496ff3dd3346e4dd                           DAS   \n",
       "\n",
       "       das     dp  freq_dp_das  \n",
       "671  E1190  Z5101            3  \n",
       "672  E1198  Z5101            6  \n",
       "673  E8718  Z5101            7  \n",
       "674   I482  Z5101            7  \n",
       "675   N185  Z5101            8  \n",
       "676    E43  Z5101            8  \n",
       "677   R410  Z5101            7  "
      ]
     },
     "execution_count": 53,
     "metadata": {},
     "output_type": "execute_result"
    }
   ],
   "source": [
    "df_dp_das[df_dp_das.visit_occurence_id==\"cd372bd9dfd0e15f1281bfb1496ff3dd3346e4dd\"]"
   ]
  },
  {
   "cell_type": "markdown",
   "id": "a48d9456",
   "metadata": {},
   "source": [
    "#### 3-5 Prepare variables diagnosis in the text format : \"Definition of the code (code)\""
   ]
  },
  {
   "cell_type": "code",
   "execution_count": 54,
   "id": "7cd9b7c9-09a7-48ed-b9bb-e8b7c1d872d1",
   "metadata": {
    "tags": []
   },
   "outputs": [],
   "source": [
    "#Add libelles of ICD 10 codes\n",
    "df_dp_das = df_dp_das.merge(df_icd[[\"code\",\"libelle\"]].rename(columns={'code':'dp','libelle':'libelle_dp'}),how='left')"
   ]
  },
  {
   "cell_type": "code",
   "execution_count": 55,
   "id": "27833721-2c11-4478-98b9-87d2b8273fca",
   "metadata": {
    "tags": []
   },
   "outputs": [],
   "source": [
    "df_dp_das = df_dp_das.merge(df_icd[[\"code\",\"libelle\"]].rename(columns={'code':'das','libelle':'libelle_das'}),how='left')"
   ]
  },
  {
   "cell_type": "code",
   "execution_count": 56,
   "id": "21301600-61aa-4f91-9f2a-21dca0825a11",
   "metadata": {
    "tags": []
   },
   "outputs": [],
   "source": [
    "#Build the format : defintion (code)\n",
    "df_dp_das.libelle_dp = df_dp_das.libelle_dp + ' (' + df_dp_das.dp +')'"
   ]
  },
  {
   "cell_type": "code",
   "execution_count": 57,
   "id": "0d8577ee-31b1-490f-98f6-9e60e176a0da",
   "metadata": {
    "tags": []
   },
   "outputs": [],
   "source": [
    "df_dp_das.libelle_das = np.where(df_dp_das.das!=\"\", \n",
    "                              df_dp_das.libelle_das + ' (' + df_dp_das.das +')',\n",
    "                              df_dp_das.das )"
   ]
  },
  {
   "cell_type": "code",
   "execution_count": 92,
   "id": "05726110",
   "metadata": {},
   "outputs": [
    {
     "data": {
      "text/plain": [
       "True"
      ]
     },
     "execution_count": 92,
     "metadata": {},
     "output_type": "execute_result"
    }
   ],
   "source": [
    "\"cd372bd9dfd0e15f1281bfb1496ff3dd3346e4dd\" in df_dp_das.visit_occurence_id.unique()"
   ]
  },
  {
   "cell_type": "code",
   "execution_count": 60,
   "id": "5bbd08f8-98cf-46b2-82cc-058fe210853e",
   "metadata": {
    "tags": []
   },
   "outputs": [
    {
     "data": {
      "text/html": [
       "<div>\n",
       "<style scoped>\n",
       "    .dataframe tbody tr th:only-of-type {\n",
       "        vertical-align: middle;\n",
       "    }\n",
       "\n",
       "    .dataframe tbody tr th {\n",
       "        vertical-align: top;\n",
       "    }\n",
       "\n",
       "    .dataframe thead th {\n",
       "        text-align: right;\n",
       "    }\n",
       "</style>\n",
       "<table border=\"1\" class=\"dataframe\">\n",
       "  <thead>\n",
       "    <tr style=\"text-align: right;\">\n",
       "      <th></th>\n",
       "      <th>visit_occurence_id</th>\n",
       "      <th>condition_status_source_value</th>\n",
       "      <th>das</th>\n",
       "      <th>dp</th>\n",
       "      <th>freq_dp_das</th>\n",
       "      <th>libelle_dp</th>\n",
       "      <th>libelle_das</th>\n",
       "    </tr>\n",
       "  </thead>\n",
       "  <tbody>\n",
       "    <tr>\n",
       "      <th>671</th>\n",
       "      <td>cd372bd9dfd0e15f1281bfb1496ff3dd3346e4dd</td>\n",
       "      <td>DAS</td>\n",
       "      <td>E1190</td>\n",
       "      <td>Z5101</td>\n",
       "      <td>3</td>\n",
       "      <td>Séance d'irradiation (Z5101)</td>\n",
       "      <td>Diabète sucré de type 2 insulinotraité, sans c...</td>\n",
       "    </tr>\n",
       "    <tr>\n",
       "      <th>672</th>\n",
       "      <td>cd372bd9dfd0e15f1281bfb1496ff3dd3346e4dd</td>\n",
       "      <td>DAS</td>\n",
       "      <td>E1198</td>\n",
       "      <td>Z5101</td>\n",
       "      <td>6</td>\n",
       "      <td>Séance d'irradiation (Z5101)</td>\n",
       "      <td>Diabète sucré de type 2 non insulinotraité ou ...</td>\n",
       "    </tr>\n",
       "    <tr>\n",
       "      <th>673</th>\n",
       "      <td>cd372bd9dfd0e15f1281bfb1496ff3dd3346e4dd</td>\n",
       "      <td>DAS</td>\n",
       "      <td>E8718</td>\n",
       "      <td>Z5101</td>\n",
       "      <td>7</td>\n",
       "      <td>Séance d'irradiation (Z5101)</td>\n",
       "      <td>Hypoosmolarités et hyponatrémies, autres et sa...</td>\n",
       "    </tr>\n",
       "    <tr>\n",
       "      <th>674</th>\n",
       "      <td>cd372bd9dfd0e15f1281bfb1496ff3dd3346e4dd</td>\n",
       "      <td>DAS</td>\n",
       "      <td>I482</td>\n",
       "      <td>Z5101</td>\n",
       "      <td>7</td>\n",
       "      <td>Séance d'irradiation (Z5101)</td>\n",
       "      <td>Fibrillation auriculaire chronique [permanente...</td>\n",
       "    </tr>\n",
       "    <tr>\n",
       "      <th>675</th>\n",
       "      <td>cd372bd9dfd0e15f1281bfb1496ff3dd3346e4dd</td>\n",
       "      <td>DAS</td>\n",
       "      <td>N185</td>\n",
       "      <td>Z5101</td>\n",
       "      <td>8</td>\n",
       "      <td>Séance d'irradiation (Z5101)</td>\n",
       "      <td>Maladie rénale chronique, stade 5 (N185)</td>\n",
       "    </tr>\n",
       "    <tr>\n",
       "      <th>676</th>\n",
       "      <td>cd372bd9dfd0e15f1281bfb1496ff3dd3346e4dd</td>\n",
       "      <td>DAS</td>\n",
       "      <td>E43</td>\n",
       "      <td>Z5101</td>\n",
       "      <td>8</td>\n",
       "      <td>Séance d'irradiation (Z5101)</td>\n",
       "      <td>Malnutrition protéino-énergétique grave, sans ...</td>\n",
       "    </tr>\n",
       "    <tr>\n",
       "      <th>677</th>\n",
       "      <td>cd372bd9dfd0e15f1281bfb1496ff3dd3346e4dd</td>\n",
       "      <td>DAS</td>\n",
       "      <td>R410</td>\n",
       "      <td>Z5101</td>\n",
       "      <td>7</td>\n",
       "      <td>Séance d'irradiation (Z5101)</td>\n",
       "      <td>Désorientation, sans précision (R410)</td>\n",
       "    </tr>\n",
       "  </tbody>\n",
       "</table>\n",
       "</div>"
      ],
      "text/plain": [
       "                           visit_occurence_id condition_status_source_value  \\\n",
       "671  cd372bd9dfd0e15f1281bfb1496ff3dd3346e4dd                           DAS   \n",
       "672  cd372bd9dfd0e15f1281bfb1496ff3dd3346e4dd                           DAS   \n",
       "673  cd372bd9dfd0e15f1281bfb1496ff3dd3346e4dd                           DAS   \n",
       "674  cd372bd9dfd0e15f1281bfb1496ff3dd3346e4dd                           DAS   \n",
       "675  cd372bd9dfd0e15f1281bfb1496ff3dd3346e4dd                           DAS   \n",
       "676  cd372bd9dfd0e15f1281bfb1496ff3dd3346e4dd                           DAS   \n",
       "677  cd372bd9dfd0e15f1281bfb1496ff3dd3346e4dd                           DAS   \n",
       "\n",
       "       das     dp  freq_dp_das                    libelle_dp  \\\n",
       "671  E1190  Z5101            3  Séance d'irradiation (Z5101)   \n",
       "672  E1198  Z5101            6  Séance d'irradiation (Z5101)   \n",
       "673  E8718  Z5101            7  Séance d'irradiation (Z5101)   \n",
       "674   I482  Z5101            7  Séance d'irradiation (Z5101)   \n",
       "675   N185  Z5101            8  Séance d'irradiation (Z5101)   \n",
       "676    E43  Z5101            8  Séance d'irradiation (Z5101)   \n",
       "677   R410  Z5101            7  Séance d'irradiation (Z5101)   \n",
       "\n",
       "                                           libelle_das  \n",
       "671  Diabète sucré de type 2 insulinotraité, sans c...  \n",
       "672  Diabète sucré de type 2 non insulinotraité ou ...  \n",
       "673  Hypoosmolarités et hyponatrémies, autres et sa...  \n",
       "674  Fibrillation auriculaire chronique [permanente...  \n",
       "675           Maladie rénale chronique, stade 5 (N185)  \n",
       "676  Malnutrition protéino-énergétique grave, sans ...  \n",
       "677              Désorientation, sans précision (R410)  "
      ]
     },
     "execution_count": 60,
     "metadata": {},
     "output_type": "execute_result"
    }
   ],
   "source": [
    "df_dp_das[df_dp_das.visit_occurence_id==\"cd372bd9dfd0e15f1281bfb1496ff3dd3346e4dd\"]"
   ]
  },
  {
   "cell_type": "markdown",
   "id": "a9fc3bb2",
   "metadata": {},
   "source": [
    "#### 3-6 Order by visit_occurence_id, freq_DP_DAS, freq_DAS\n",
    "\n"
   ]
  },
  {
   "cell_type": "code",
   "execution_count": 61,
   "id": "2f284ee5-603b-4c83-abba-f9128538ccac",
   "metadata": {
    "tags": []
   },
   "outputs": [],
   "source": [
    "#Concatenate all DAS in one line.\n",
    "#First arrange lines from most frequent to less frequent\n",
    "df_dp_das.sort_values([\"visit_occurence_id\",\"freq_dp_das\"], ascending=[True,False],inplace=True)"
   ]
  },
  {
   "cell_type": "markdown",
   "id": "a02a6dca",
   "metadata": {},
   "source": [
    "#### 3-7 Concat DAS in a unique variables : \"Definition of the code 1  (code 1), Definition of the code 2  (code 2),...\" ."
   ]
  },
  {
   "cell_type": "code",
   "execution_count": 62,
   "id": "2f49f8cd-e9cb-4063-b944-858eda45596e",
   "metadata": {
    "tags": []
   },
   "outputs": [],
   "source": [
    "df_codes = df_dp_das.groupby([\"visit_occurence_id\",\"libelle_dp\"])['libelle_das'].apply(lambda x: ',\\n'.join(x)).reset_index()"
   ]
  },
  {
   "cell_type": "markdown",
   "id": "4e85aec8",
   "metadata": {},
   "source": [
    "### 4) Prépare format for generative training\n",
    "\n",
    "Add DR"
   ]
  },
  {
   "cell_type": "code",
   "execution_count": 63,
   "id": "08ba8090-371f-4661-a67c-55ba6685edc2",
   "metadata": {
    "tags": []
   },
   "outputs": [],
   "source": [
    "#Prepare df_dr to merge with the other codes\n",
    "df_sel_dr2 = df_sel_dr.copy()"
   ]
  },
  {
   "cell_type": "code",
   "execution_count": 64,
   "id": "1ac5d0e7-f9d4-4ce7-9c86-c1f1cd24b3b1",
   "metadata": {
    "tags": []
   },
   "outputs": [],
   "source": [
    "df_sel_dr2.libelle_dr = df_sel_dr2.libelle_dr + ' (' + df_sel_dr2.dr +')'"
   ]
  },
  {
   "cell_type": "code",
   "execution_count": 66,
   "id": "096f49f9-7904-4b4f-9abf-31ed74a4d9fd",
   "metadata": {
    "tags": []
   },
   "outputs": [],
   "source": [
    "df_codes = df_codes.merge(df_sel_dr2[['visit_occurence_id','libelle_dr']],how='left')"
   ]
  },
  {
   "cell_type": "markdown",
   "id": "a9fad0c0",
   "metadata": {},
   "source": [
    "Merge all diags in one column"
   ]
  },
  {
   "cell_type": "code",
   "execution_count": 67,
   "id": "93a1b2af-e3ac-4106-b37a-65c0f0945a79",
   "metadata": {
    "tags": []
   },
   "outputs": [],
   "source": [
    "df_codes[\"diag\"] = np.where(df_codes.libelle_dr.isna(),\n",
    "                   np.where(df_codes.libelle_das==\"\",\"Diagnostic principal : \" + df_codes.libelle_dp +\".\\nDiagnostic relié : Aucun.\\nDiagnostics associés : Aucun\",\n",
    "                            \"Diagnostic principal : \" + df_codes.libelle_dp +\"\\nDiagnostic relié : Aucun.\\nDiagnostics associés :\\n\"+ df_codes.libelle_das +\".\"),\n",
    "                   np.where(df_codes.libelle_das==\"\",\"Diagnostic principal : \" + df_codes.libelle_dp +\".\\nDiagnostic relié : \" +df_codes.libelle_dr +\".\\nDiagnostics associés : Aucun.\",\n",
    "                            \"Diagnostic principal : \" + df_codes.libelle_dp +\".\\nDiagnostic relié : \" + df_codes.libelle_dr +\".\\nDiagnostics associés :\\n\"+ df_codes.libelle_das +\".\"))\n",
    "\n"
   ]
  },
  {
   "cell_type": "code",
   "execution_count": 68,
   "id": "a2b503eb-8b4d-4ae8-9849-82e30dbb147e",
   "metadata": {
    "tags": []
   },
   "outputs": [
    {
     "name": "stdout",
     "output_type": "stream",
     "text": [
      "Diagnostic principal : Anévrisme du coeur (I253).\n",
      "Diagnostic relié : Aucun.\n",
      "Diagnostics associés : Aucun\n"
     ]
    }
   ],
   "source": [
    "test = df_codes.loc[(df_codes.libelle_dr.isna())&(df_codes.libelle_das==\"\"),\"diag\"].reset_index()\n",
    "print(test.loc[0,\"diag\"])"
   ]
  },
  {
   "cell_type": "code",
   "execution_count": 69,
   "id": "2eaa5932-6003-4d78-91c6-d220deb88770",
   "metadata": {
    "tags": []
   },
   "outputs": [
    {
     "name": "stdout",
     "output_type": "stream",
     "text": [
      "Diagnostic principal : Abcès de l'intestin (K630)\n",
      "Diagnostic relié : Aucun.\n",
      "Diagnostics associés :\n",
      "Apnée du sommeil (G473),\n",
      "Diabète sucré de type 2 insulinotraité, sans complication (E1190).\n"
     ]
    }
   ],
   "source": [
    "test = df_codes.loc[(df_codes.libelle_dr.isna())&(df_codes.libelle_das!=\"\"),\"diag\"].reset_index()\n",
    "print(test.loc[0,\"diag\"])"
   ]
  },
  {
   "cell_type": "code",
   "execution_count": 70,
   "id": "7c58666f-1a48-4ec3-b414-9ffa39ea005a",
   "metadata": {
    "tags": []
   },
   "outputs": [],
   "source": [
    "df_codes = df_codes[[\"visit_occurence_id\",\"diag\"]]"
   ]
  },
  {
   "cell_type": "code",
   "execution_count": 75,
   "id": "09dab869",
   "metadata": {},
   "outputs": [],
   "source": [
    "def get_dataset_partitions(df, train_split=0.8, val_split=0.1, test_split=0.1):\n",
    "    assert (train_split + test_split + val_split) == 1\n",
    "    \n",
    "    # Only allows for equal validation and test splits\n",
    "    assert val_split == test_split \n",
    "\n",
    "    # Specify seed to always have the same split distribution between runs\n",
    "    df_sample = df.sample(frac=1, random_state=12)\n",
    "    train_i = int(train_split * len(df))\n",
    "    val_i = int(val_split * len(df)) + train_i\n",
    "    indices_or_sections = [train_i,val_i]\n",
    "    \n",
    "    train_ds, val_ds, test_ds = np.split(df_sample, indices_or_sections)\n",
    "    \n",
    "    return train_ds, val_ds, test_ds"
   ]
  },
  {
   "cell_type": "code",
   "execution_count": 76,
   "id": "23bb8322",
   "metadata": {},
   "outputs": [],
   "source": [
    "df_train, df_val, df_test = get_dataset_partitions(df_codes)"
   ]
  },
  {
   "cell_type": "code",
   "execution_count": 87,
   "id": "d2779542-e840-4502-866b-a6f7d27251eb",
   "metadata": {
    "tags": []
   },
   "outputs": [],
   "source": [
    "import csv\n",
    "import json\n",
    "import os\n",
    "\n",
    "PATH_DATA = \"../sample_data/\"\n"
   ]
  },
  {
   "cell_type": "code",
   "execution_count": 100,
   "id": "3e59b09d-ec78-41a1-9e7a-58605f1a8c53",
   "metadata": {
    "tags": []
   },
   "outputs": [],
   "source": [
    "# For all csv files (train,test,val)\n",
    "# Write format text and generative jsonl\n",
    "\n",
    "limit = None\n",
    "\n",
    "input_text_file = PATH_DATA + \"text.csv\"\n",
    "\n",
    "index=0\n",
    "# Open note file\n",
    "with open(input_text_file, 'r', encoding='utf-8') as infile:\n",
    "    \n",
    "    reader = csv.DictReader(infile)\n",
    "\n",
    "    #Delete existing data\n",
    "    try:\n",
    "        os.remove(PATH_DATA + \"train_text.jsonl\")\n",
    "        os.remove(PATH_DATA + \"val_text.jsonl\")\n",
    "        os.remove(PATH_DATA + \"test_text.jsonl\")\n",
    "    except OSError:\n",
    "        pass\n",
    "    \n",
    "    for row in reader:\n",
    "\n",
    "        visit_occurence_id = row['visit_occurence_id']\n",
    "\n",
    "        #Specific HIVE export = concatenation of multiple files\n",
    "        if visit_occurence_id== 'visit_occurence_id': \n",
    "            continue\n",
    "        \n",
    "        diags = df_codes.diag[df_codes.visit_occurence_id==visit_occurence_id].to_list()\n",
    "        \n",
    "        #Despite preprocessing there are still case where ICD coding is missing\n",
    "        if len(diags)==0:\n",
    "            continue\n",
    "        \n",
    "        diags = diags[0]\n",
    "\n",
    "        if visit_occurence_id in df_train.visit_occurence_id.unique() :\n",
    "            NAME = \"train\"\n",
    "        elif visit_occurence_id in df_val.visit_occurence_id.unique() :\n",
    "            NAME = \"val\"\n",
    "        else:\n",
    "            NAME = \"test\"\n",
    "\n",
    "        \n",
    "        \n",
    "        output_file = PATH_DATA + NAME + \"_text.jsonl\"\n",
    "\n",
    "        # Open text.jsonl\n",
    "        with open(output_file, 'a+', encoding=\"utf-8\") as outfile:\n",
    "            # Read line\n",
    "                text = row['text'] +  \"\\nDiagnostics CIM-10 du résumé standardisé de sortie PMSI : \" + diags\n",
    "                data = {\"text\": text}\n",
    "                json.dump(data, outfile, separators=(',', ':'),  ensure_ascii=False)\n",
    "                outfile.write('\\n')\n",
    "                index+=1\n",
    "                \n",
    "                if NAME == \"val\":\n",
    "                    if index > 100:\n",
    "                        break\n",
    "                if limit is not None:\n",
    "                    if index > limit:\n",
    "                        break\n",
    "        \n",
    "        output_file = PATH_DATA + NAME + \"_instruct.jsonl\"\n",
    " \n",
    "        # Open instruct.jsonl\n",
    "        with open(output_file, 'a+', encoding=\"utf-8\") as outfile:\n",
    "                \n",
    "            text = row['text']\n",
    "\n",
    "\n",
    "            data = {\n",
    "            \"messages\": [\n",
    "                {\n",
    "                    \"role\": \"system\",\n",
    "                    \"content\": \"\"\"Vous êtes un modèle de langage en française spécialisé dans le codage des diagnostics selon la classification internationale des maladies version 10 (CIM-10) pour les résumés standardisés de sortie du programme de médicalisation des systèmes d'information français (PMSI). A partir des comptes rendus d'hospitalisation vous donnerez les codes diagnostics CIM-10 que l'on peut retenir pour le séjours en distiguant diagnostic principal, diagnostic relié et diagnostics associés.\"\"\"\n",
    "                },\n",
    "\n",
    "                {\n",
    "                    \"role\": \"user\",\n",
    "                    \"content\": \"Générez le codage CIM-10 du résumé standardisé de sortie PMSI à partir du compte rendu d'hospitalisation suivant : \" + text\n",
    "                },\n",
    "                {\n",
    "                    \"role\": \"assistant\",\n",
    "                    \"content\": \"Codes CIM 10 retenus pour le résumé standardisé de sortie PMSI : \" + diags\n",
    "                }\n",
    "            ]\n",
    "            }\n",
    "            json.dump(data, outfile, separators=(',', ':'),  ensure_ascii=False)\n",
    "            outfile.write('\\n')\n",
    "            index+=1\n",
    "            if NAME == \"val\":\n",
    "                if index > 100:\n",
    "                    break\n",
    "            if limit is not None:\n",
    "                if index > limit:\n",
    "                    break"
   ]
  },
  {
   "cell_type": "markdown",
   "id": "45700f39-e7a9-4d02-a574-0d297ea31b82",
   "metadata": {},
   "source": [
    "# Train model"
   ]
  },
  {
   "cell_type": "markdown",
   "id": "04a4b4c1-6a6b-4f43-96b3-97ecd01a5702",
   "metadata": {
    "id": "LgdIAi257jLo"
   },
   "source": [
    "## Model download"
   ]
  },
  {
   "cell_type": "code",
   "execution_count": 5,
   "id": "a2be48c5-bf3f-4f45-9f13-8233b732bf48",
   "metadata": {
    "tags": []
   },
   "outputs": [],
   "source": [
    "#!pip install huggingface_hub"
   ]
  },
  {
   "cell_type": "code",
   "execution_count": 6,
   "id": "75b24ef1-8207-4613-a43a-4a26a962f17f",
   "metadata": {
    "tags": []
   },
   "outputs": [
    {
     "data": {
      "application/vnd.jupyter.widget-view+json": {
       "model_id": "8dd0aea8457f4b04b566527afdf0005b",
       "version_major": 2,
       "version_minor": 0
      },
      "text/plain": [
       "VBox(children=(HTML(value='<center> <img\\nsrc=https://huggingface.co/front/assets/huggingface_logo-noborder.sv…"
      ]
     },
     "metadata": {},
     "output_type": "display_data"
    }
   ],
   "source": [
    "# huggingface login\n",
    "from huggingface_hub import notebook_login\n",
    "\n",
    "notebook_login()"
   ]
  },
  {
   "cell_type": "code",
   "execution_count": 7,
   "id": "6631c9ae-4aec-4e36-bd2e-d77094b05521",
   "metadata": {
    "colab": {
     "base_uri": "https://localhost:8080/",
     "height": 163,
     "referenced_widgets": [
      "c06bbba05e10462d993f3e7e6f932cf1",
      "6f734c35284341d891a44694ddc55b2c",
      "193be53200ab436a967f1ea4807053e2",
      "85a2415f14284237875b349b4c414e21",
      "3ab931b2fcc0493ca71923ebc37127c7",
      "f49472d0536f4011be17902f9e827807",
      "2f341cb76f254d0da913faec6a82f762",
      "24ebf383723f4de494f9808b41222751",
      "0c17aa90672046c9bd2f293b1a998b46",
      "af89033247b34da2a5cded73b0beade2",
      "0ea5f5e6ab26484ab22dcf5576f796d1",
      "946ce9afeddb4da5a36e81e5ada9d957",
      "95782b84af1c4014ae04c9e6c9131cbe",
      "2332101edec848219c3b0c6026c2a722",
      "a2638b3f10a24de99bb940dcd150ab53",
      "1c78955b41ba4845931a250f16b753b5",
      "148a8c3e4fad4cefa16a478a9758fdc5",
      "92ef027f2cc940b5b09521328de550b0",
      "1a3d2764c7fc41dcb97489e84c28093e",
      "c7b6155f0f844c67b3a2b805570fd6f9",
      "1eec374aa3414838a9b41e5db1fefd50",
      "6fc8cf7aa81c4043878ac854b289dbe3",
      "b1aab1a3b5914048962a6d7d63401425",
      "10fe81122e6442f28608766d90749790",
      "f7e72f0a87bc421b82a59ae9ad33a4cb",
      "2188b8f9491b4d3e8861e40e7c4f6a46",
      "b3bf1880a5844f8c89096ced830fc954",
      "7e0495ffdeb74675847e5e4c2104cc34",
      "3e0e828a21f24944b68a66eafb52f62b",
      "ee07a8e2427c4fc9bd09b27ad11e968a",
      "d35818e4f9454d26aa475826e08ea4f0",
      "e3f7c4fea8494af2a473cf61adccf270",
      "7e18402efdb34d708b7917964ac791de",
      "1442445cdf89487784d4a39919fec6bf",
      "2ff8ebe8d132411585a05b852362c406",
      "ef719bb991714d91a365226c5a2ca9df",
      "1727f9b019e9477282d010e96b7dd4c3",
      "f82b841d7e5b45229119bd3195e5b12f",
      "feb470b16b4249daaa19c1344d036f0a",
      "2cc30eef6d7b46d283fcfd0e7abca6ea",
      "83b554bec0fd40dd9bd9e4601f2f98a3",
      "1c19998de61c4e2dad6647fdc4ca4358",
      "25df0dd9481a4e0ba21d2f4f4ffdba2e",
      "cbf620ae5196446c84528feaed64ae6a"
     ]
    },
    "id": "qgjAADBFHB0S",
    "outputId": "6dd98910-36fd-4dc1-c5b8-77bb4c104e05",
    "tags": []
   },
   "outputs": [
    {
     "name": "stdout",
     "output_type": "stream",
     "text": [
      "/export/home/cse170020/models/mistral_models/7B-v0.3\n"
     ]
    }
   ],
   "source": [
    "from huggingface_hub import snapshot_download\n",
    "\n",
    "mistral_models_path = Path(f'{model_path}/mistral_models', '7B-v0.3')\n",
    "mistral_models_path.mkdir(parents=True, exist_ok=True)\n",
    "\n",
    "print(mistral_models_path) \n",
    "\n",
    "# Erreur restricted ?\n",
    "# snapshot_download(repo_id=\"mistralai/Mistral-7B-v0.3\", allow_patterns=[\"params.json\", \"consolidated.safetensors\", \"tokenizer.model.v3\"], local_dir=mistral_models_path)"
   ]
  },
  {
   "cell_type": "code",
   "execution_count": 8,
   "id": "b998e6cd-a8d4-41ce-8abc-ba603ce1c1e0",
   "metadata": {
    "colab": {
     "base_uri": "https://localhost:8080/"
    },
    "id": "cdl_R5baUyha",
    "outputId": "8ddcc9d2-5088-47a8-b5f7-d73c89063246",
    "tags": []
   },
   "outputs": [],
   "source": [
    "# Alternatively, you can download the model from mistral\n",
    "\n",
    "## Ne fonctionne pas (ou prend énormément de temps...) ?\n",
    "# !wget -P /export/home/cse170020/models/mistral_models/7B-v0.3 https://models.mistralcdn.com/mistral-7b-v0-3/mistral-7B-v0.3.tar"
   ]
  },
  {
   "cell_type": "code",
   "execution_count": 9,
   "id": "d82ff427-4eee-43f8-af73-f9b24b174353",
   "metadata": {
    "id": "IgJWR-fReilz",
    "tags": []
   },
   "outputs": [],
   "source": [
    "# !DIR=/export/home/cse170020/models/mistral_models/7B-v0.3 && mkdir -p $DIR && tar -xf $DIR/mistral-7B-v0.3.tar -C $DIR"
   ]
  },
  {
   "cell_type": "code",
   "execution_count": 10,
   "id": "035db32d-8788-48f5-a120-bfed853e7641",
   "metadata": {
    "colab": {
     "base_uri": "https://localhost:8080/"
    },
    "id": "3PxYGmcy4gu0",
    "outputId": "71912866-1a50-4407-ac34-42e23927afd9",
    "tags": []
   },
   "outputs": [
    {
     "name": "stdout",
     "output_type": "stream",
     "text": [
      "consolidated.safetensors  params.json  tokenizer.model.v3\n"
     ]
    }
   ],
   "source": [
    "!ls {model_path+'/mistral_models/7B-v0.3'}"
   ]
  },
  {
   "cell_type": "markdown",
   "id": "719eb56f-7809-4610-b445-97a5402ea9e3",
   "metadata": {},
   "source": [
    "### Test dataset"
   ]
  },
  {
   "cell_type": "code",
   "execution_count": null,
   "id": "aa2422e7-9239-4f0c-83ca-23d2a6ea607f",
   "metadata": {},
   "outputs": [],
   "source": [
    "! python3 -m utils.validate_data --train_yaml example/instruct_icd_v1.yaml"
   ]
  },
  {
   "cell_type": "markdown",
   "id": "c3780a19-0fa3-4937-b602-282ca0a227a1",
   "metadata": {},
   "source": [
    "### Train model"
   ]
  },
  {
   "cell_type": "code",
   "execution_count": null,
   "id": "4bef46ab-9767-479e-963e-1fd3c4a33c7f",
   "metadata": {},
   "outputs": [],
   "source": [
    "! torchrun --nproc-per-node 1 -m train example/instruct_icd_v1.yaml"
   ]
  },
  {
   "cell_type": "code",
   "execution_count": null,
   "id": "dc0723ec",
   "metadata": {},
   "outputs": [],
   "source": []
  }
 ],
 "metadata": {
  "kernelspec": {
   "display_name": "Python 3.10.6 64-bit",
   "language": "python",
   "name": "python3"
  },
  "language_info": {
   "codemirror_mode": {
    "name": "ipython",
    "version": 3
   },
   "file_extension": ".py",
   "mimetype": "text/x-python",
   "name": "python",
   "nbconvert_exporter": "python",
   "pygments_lexer": "ipython3",
   "version": "3.10.6"
  },
  "vscode": {
   "interpreter": {
    "hash": "26de051ba29f2982a8de78e945f0abaf191376122a1563185a90213a26c5da77"
   }
  }
 },
 "nbformat": 4,
 "nbformat_minor": 5
}
